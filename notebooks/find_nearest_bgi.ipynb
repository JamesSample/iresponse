{
 "cells": [
  {
   "cell_type": "code",
   "execution_count": 1,
   "metadata": {},
   "outputs": [],
   "source": [
    "import pandas as pd\n",
    "import geopandas as gpd\n",
    "import geocoder\n",
    "import nivapy\n",
    "from shapely.geometry import Point\n",
    "from shapely.ops import nearest_points"
   ]
  },
  {
   "cell_type": "markdown",
   "metadata": {},
   "source": [
    "# Find nearest BGI\n",
    "\n",
    "Quick Python example of identifying the nearest BGI point based on a user-supplied address.\n",
    "\n",
    "## 1. Read locations for BGI\n",
    "\n",
    "Line has a Google spreadsheet listing BGI projects in Oslo. This sheet includes lat/lon co-ordinates, but they are not consistently formatted. For the simple example here, I have tidied up the columns with spatial data and copied to Excel."
   ]
  },
  {
   "cell_type": "code",
   "execution_count": 2,
   "metadata": {},
   "outputs": [
    {
     "data": {
      "text/html": [
       "<div>\n",
       "<table border=\"1\" class=\"dataframe\">\n",
       "  <thead>\n",
       "    <tr style=\"text-align: right;\">\n",
       "      <th></th>\n",
       "      <th>Project name</th>\n",
       "      <th>lat</th>\n",
       "      <th>lon</th>\n",
       "    </tr>\n",
       "  </thead>\n",
       "  <tbody>\n",
       "    <tr>\n",
       "      <th>0</th>\n",
       "      <td>Årvolldammen, Hovinbekken og Glasbergbekken</td>\n",
       "      <td>59.947369</td>\n",
       "      <td>10.819674</td>\n",
       "    </tr>\n",
       "    <tr>\n",
       "      <th>1</th>\n",
       "      <td>Olaf Ryes plass</td>\n",
       "      <td>59.923463</td>\n",
       "      <td>10.758054</td>\n",
       "    </tr>\n",
       "    <tr>\n",
       "      <th>2</th>\n",
       "      <td>Bjølsen studentby</td>\n",
       "      <td>59.944849</td>\n",
       "      <td>10.760666</td>\n",
       "    </tr>\n",
       "    <tr>\n",
       "      <th>3</th>\n",
       "      <td>Hølaløkka ( må sjekkes mht til overvannsløsnin...</td>\n",
       "      <td>59.944849</td>\n",
       "      <td>10.760666</td>\n",
       "    </tr>\n",
       "    <tr>\n",
       "      <th>4</th>\n",
       "      <td>Nedre Foss park\\n</td>\n",
       "      <td>59.922488</td>\n",
       "      <td>10.753258</td>\n",
       "    </tr>\n",
       "    <tr>\n",
       "      <th>5</th>\n",
       "      <td>OBOS Etterstadsletta ( mer privat?)\\n</td>\n",
       "      <td>59.911184</td>\n",
       "      <td>10.799387</td>\n",
       "    </tr>\n",
       "    <tr>\n",
       "      <th>6</th>\n",
       "      <td>Lysaker - stasjonsaksens hovedtorg\\n</td>\n",
       "      <td>59.915026</td>\n",
       "      <td>10.635812</td>\n",
       "    </tr>\n",
       "  </tbody>\n",
       "</table>\n",
       "</div>"
      ],
      "text/plain": [
       "                                        Project name        lat        lon\n",
       "0        Årvolldammen, Hovinbekken og Glasbergbekken  59.947369  10.819674\n",
       "1                                    Olaf Ryes plass  59.923463  10.758054\n",
       "2                                  Bjølsen studentby  59.944849  10.760666\n",
       "3  Hølaløkka ( må sjekkes mht til overvannsløsnin...  59.944849  10.760666\n",
       "4                                  Nedre Foss park\\n  59.922488  10.753258\n",
       "5              OBOS Etterstadsletta ( mer privat?)\\n  59.911184  10.799387\n",
       "6               Lysaker - stasjonsaksens hovedtorg\\n  59.915026  10.635812"
      ]
     },
     "execution_count": 2,
     "metadata": {},
     "output_type": "execute_result"
    }
   ],
   "source": [
    "# Read data\n",
    "bgi_xls = (r'C:\\Data\\James_Work\\Staff\\Line_B\\iResponse\\Vanniby_BGI-projects.xlsx')\n",
    "bgi_df = pd.read_excel(bgi_xls, sheetname='Sheet1')\n",
    "bgi_df"
   ]
  },
  {
   "cell_type": "code",
   "execution_count": 3,
   "metadata": {},
   "outputs": [
    {
     "data": {
      "text/html": [
       "<div>\n",
       "<table border=\"1\" class=\"dataframe\">\n",
       "  <thead>\n",
       "    <tr style=\"text-align: right;\">\n",
       "      <th></th>\n",
       "      <th>Project name</th>\n",
       "      <th>lat</th>\n",
       "      <th>lon</th>\n",
       "      <th>geometry</th>\n",
       "    </tr>\n",
       "  </thead>\n",
       "  <tbody>\n",
       "    <tr>\n",
       "      <th>0</th>\n",
       "      <td>Årvolldammen, Hovinbekken og Glasbergbekken</td>\n",
       "      <td>59.947369</td>\n",
       "      <td>10.819674</td>\n",
       "      <td>POINT (10.819674 59.947369)</td>\n",
       "    </tr>\n",
       "    <tr>\n",
       "      <th>1</th>\n",
       "      <td>Olaf Ryes plass</td>\n",
       "      <td>59.923463</td>\n",
       "      <td>10.758054</td>\n",
       "      <td>POINT (10.7580535 59.9234632)</td>\n",
       "    </tr>\n",
       "    <tr>\n",
       "      <th>2</th>\n",
       "      <td>Bjølsen studentby</td>\n",
       "      <td>59.944849</td>\n",
       "      <td>10.760666</td>\n",
       "      <td>POINT (10.7606661 59.9448494)</td>\n",
       "    </tr>\n",
       "    <tr>\n",
       "      <th>3</th>\n",
       "      <td>Hølaløkka ( må sjekkes mht til overvannsløsnin...</td>\n",
       "      <td>59.944849</td>\n",
       "      <td>10.760666</td>\n",
       "      <td>POINT (10.7606661 59.9448494)</td>\n",
       "    </tr>\n",
       "    <tr>\n",
       "      <th>4</th>\n",
       "      <td>Nedre Foss park\\n</td>\n",
       "      <td>59.922488</td>\n",
       "      <td>10.753258</td>\n",
       "      <td>POINT (10.753258 59.922488)</td>\n",
       "    </tr>\n",
       "    <tr>\n",
       "      <th>5</th>\n",
       "      <td>OBOS Etterstadsletta ( mer privat?)\\n</td>\n",
       "      <td>59.911184</td>\n",
       "      <td>10.799387</td>\n",
       "      <td>POINT (10.799387 59.911184)</td>\n",
       "    </tr>\n",
       "    <tr>\n",
       "      <th>6</th>\n",
       "      <td>Lysaker - stasjonsaksens hovedtorg\\n</td>\n",
       "      <td>59.915026</td>\n",
       "      <td>10.635812</td>\n",
       "      <td>POINT (10.635812 59.915026)</td>\n",
       "    </tr>\n",
       "  </tbody>\n",
       "</table>\n",
       "</div>"
      ],
      "text/plain": [
       "                                        Project name        lat        lon  \\\n",
       "0        Årvolldammen, Hovinbekken og Glasbergbekken  59.947369  10.819674   \n",
       "1                                    Olaf Ryes plass  59.923463  10.758054   \n",
       "2                                  Bjølsen studentby  59.944849  10.760666   \n",
       "3  Hølaløkka ( må sjekkes mht til overvannsløsnin...  59.944849  10.760666   \n",
       "4                                  Nedre Foss park\\n  59.922488  10.753258   \n",
       "5              OBOS Etterstadsletta ( mer privat?)\\n  59.911184  10.799387   \n",
       "6               Lysaker - stasjonsaksens hovedtorg\\n  59.915026  10.635812   \n",
       "\n",
       "                        geometry  \n",
       "0    POINT (10.819674 59.947369)  \n",
       "1  POINT (10.7580535 59.9234632)  \n",
       "2  POINT (10.7606661 59.9448494)  \n",
       "3  POINT (10.7606661 59.9448494)  \n",
       "4    POINT (10.753258 59.922488)  \n",
       "5    POINT (10.799387 59.911184)  \n",
       "6    POINT (10.635812 59.915026)  "
      ]
     },
     "execution_count": 3,
     "metadata": {},
     "output_type": "execute_result"
    }
   ],
   "source": [
    "# Convert to gdf\n",
    "geometry = [Point(xy) for xy in zip(bgi_df.lon, bgi_df.lat)]\n",
    "crs = {'init': 'epsg:4326'}\n",
    "bgi_gdf = gpd.GeoDataFrame(bgi_df, crs=crs, geometry=geometry)\n",
    "bgi_gdf"
   ]
  },
  {
   "cell_type": "code",
   "execution_count": 4,
   "metadata": {},
   "outputs": [
    {
     "data": {
      "text/html": [
       "<div style=\"width:100%;\"><div style=\"position:relative;width:100%;height:0;padding-bottom:60%;\"><iframe src=\"data:text/html;charset=utf-8;base64,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\" style=\"position:absolute;width:100%;height:100%;left:0;top:0;border:none !important;\" allowfullscreen webkitallowfullscreen mozallowfullscreen></iframe></div></div>"
      ],
      "text/plain": [
       "<folium.folium.Map at 0x10b63898>"
      ]
     },
     "execution_count": 4,
     "metadata": {},
     "output_type": "execute_result"
    }
   ],
   "source": [
    "# Show BGI locs on map\n",
    "map1 = nivapy.spatial.quickmap(bgi_df, \n",
    "                               lat_col='lat', \n",
    "                               lon_col='lon', \n",
    "                               popup='Project name',\n",
    "                               tiles='openstreetmap')\n",
    "map1"
   ]
  },
  {
   "cell_type": "markdown",
   "metadata": {},
   "source": [
    "## 2. Get user input"
   ]
  },
  {
   "cell_type": "code",
   "execution_count": 5,
   "metadata": {},
   "outputs": [
    {
     "name": "stdout",
     "output_type": "stream",
     "text": [
      "The co-ordinates of your address are:\n",
      "(10.71573419201851, 59.94240602885344)\n"
     ]
    }
   ],
   "source": [
    "# Address supplied by user\n",
    "addr = 'NIVA, Gaustadalléen 21, 0349 Oslo'\n",
    "\n",
    "# Geocode\n",
    "g = geocoder.arcgis(addr)\n",
    "lat, lon = g.latlng\n",
    "\n",
    "print 'The co-ordinates of your address are:'\n",
    "print (lon, lat)"
   ]
  },
  {
   "cell_type": "markdown",
   "metadata": {},
   "source": [
    "## 3. Find nearest BGI\n",
    "\n",
    "**Note:** The code below treats ellipsoidal (i.e. lat/lon) co-ordinates as Cartesian, which is not correct. However, given that all points are very close together, the errors involved should not affect determination of the nearest BGI."
   ]
  },
  {
   "cell_type": "code",
   "execution_count": 6,
   "metadata": {},
   "outputs": [
    {
     "name": "stdout",
     "output_type": "stream",
     "text": [
      "The nearest BGI to your address is:\n"
     ]
    },
    {
     "data": {
      "text/html": [
       "<div>\n",
       "<table border=\"1\" class=\"dataframe\">\n",
       "  <thead>\n",
       "    <tr style=\"text-align: right;\">\n",
       "      <th></th>\n",
       "      <th>Project name</th>\n",
       "      <th>lat</th>\n",
       "      <th>lon</th>\n",
       "      <th>geometry</th>\n",
       "    </tr>\n",
       "  </thead>\n",
       "  <tbody>\n",
       "    <tr>\n",
       "      <th>4</th>\n",
       "      <td>Nedre Foss park\\n</td>\n",
       "      <td>59.922488</td>\n",
       "      <td>10.753258</td>\n",
       "      <td>POINT (10.753258 59.922488)</td>\n",
       "    </tr>\n",
       "  </tbody>\n",
       "</table>\n",
       "</div>"
      ],
      "text/plain": [
       "        Project name        lat        lon                     geometry\n",
       "4  Nedre Foss park\\n  59.922488  10.753258  POINT (10.753258 59.922488)"
      ]
     },
     "execution_count": 6,
     "metadata": {},
     "output_type": "execute_result"
    }
   ],
   "source": [
    "# Build point from geocoded address\n",
    "addr_loc = Point((lon, lat))\n",
    "\n",
    "# Find nearest BGI\n",
    "bgi_pts = bgi_gdf.unary_union\n",
    "nearest = bgi_gdf.geometry == nearest_points(addr_loc, bgi_pts)[1]\n",
    "\n",
    "print 'The nearest BGI to your address is:'\n",
    "bgi_gdf[nearest]"
   ]
  }
 ],
 "metadata": {
  "kernelspec": {
   "display_name": "Python 2",
   "language": "python",
   "name": "python2"
  },
  "language_info": {
   "codemirror_mode": {
    "name": "ipython",
    "version": 2
   },
   "file_extension": ".py",
   "mimetype": "text/x-python",
   "name": "python",
   "nbconvert_exporter": "python",
   "pygments_lexer": "ipython2",
   "version": "2.7.13"
  }
 },
 "nbformat": 4,
 "nbformat_minor": 2
}
